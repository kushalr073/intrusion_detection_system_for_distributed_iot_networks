{
 "cells": [
  {
   "cell_type": "code",
   "execution_count": 1,
   "metadata": {},
   "outputs": [
    {
     "name": "stdout",
     "output_type": "stream",
     "text": [
      "Hi\n"
     ]
    }
   ],
   "source": [
    "print(\"Hi\")"
   ]
  },
  {
   "cell_type": "code",
   "execution_count": null,
   "metadata": {},
   "outputs": [],
   "source": []
  },
  {
   "cell_type": "code",
   "execution_count": null,
   "metadata": {},
   "outputs": [],
   "source": []
  },
  {
   "cell_type": "code",
   "execution_count": null,
   "metadata": {},
   "outputs": [],
   "source": []
  },
  {
   "cell_type": "code",
   "execution_count": null,
   "metadata": {},
   "outputs": [],
   "source": []
  },
  {
   "cell_type": "code",
   "execution_count": 2,
   "metadata": {},
   "outputs": [
    {
     "name": "stdout",
     "output_type": "stream",
     "text": [
      "True\n"
     ]
    }
   ],
   "source": [
    "print(1==1)"
   ]
  },
  {
   "cell_type": "code",
   "execution_count": 3,
   "metadata": {},
   "outputs": [
    {
     "name": "stdout",
     "output_type": "stream",
     "text": [
      "True\n"
     ]
    }
   ],
   "source": [
    "print(2==2)"
   ]
  },
  {
   "cell_type": "code",
   "execution_count": 4,
   "metadata": {},
   "outputs": [],
   "source": [
    "import numpy as np\n",
    "import pandas as pd"
   ]
  },
  {
   "cell_type": "code",
   "execution_count": 5,
   "metadata": {},
   "outputs": [],
   "source": [
    "\n",
    "import pandas as pd"
   ]
  },
  {
   "cell_type": "code",
   "execution_count": 6,
   "metadata": {},
   "outputs": [],
   "source": [
    "capture_34 = \"E:/finalyearproject_dataset/iot_23_datasets_small/opt/Malware-Project/BigDataset/IoTScenarios/CTU-IoT-Malware-Capture-34-1/bro/conn.log.labeled\"\n",
    "capture_43 = \"E:/finalyearproject_dataset/iot_23_datasets_small/opt/Malware-Project/BigDataset/IoTScenarios/CTU-IoT-Malware-Capture-43-1/bro/conn.log.labeled\"\n",
    "capture_44 = \"E:/finalyearproject_dataset/iot_23_datasets_small/opt/Malware-Project/BigDataset/IoTScenarios/CTU-IoT-Malware-Capture-44-1/bro/conn.log.labeled\"\n",
    "capture_49 = \"E:/finalyearproject_dataset/iot_23_datasets_small/opt/Malware-Project/BigDataset/IoTScenarios/CTU-IoT-Malware-Capture-49-1/bro/conn.log.labeled\"\n",
    "capture_52 = \"E:/finalyearproject_dataset/iot_23_datasets_small/opt/Malware-Project/BigDataset/IoTScenarios/CTU-IoT-Malware-Capture-52-1/bro/conn.log.labeled\"\n",
    "capture_20 = \"E:/finalyearproject_dataset/iot_23_datasets_small/opt/Malware-Project/BigDataset/IoTScenarios/CTU-IoT-Malware-Capture-20-1/bro/conn.log.labeled\"\n",
    "capture_21 = \"E:/finalyearproject_dataset/iot_23_datasets_small/opt/Malware-Project/BigDataset/IoTScenarios/CTU-IoT-Malware-Capture-21-1/bro/conn.log.labeled\"\n",
    "capture_42 = \"E:/finalyearproject_dataset/iot_23_datasets_small/opt/Malware-Project/BigDataset/IoTScenarios/CTU-IoT-Malware-Capture-42-1/bro/conn.log.labeled\"\n",
    "capture_60 = \"E:/finalyearproject_dataset/iot_23_datasets_small/opt/Malware-Project/BigDataset/IoTScenarios/CTU-IoT-Malware-Capture-60-1/bro/conn.log.labeled\"\n",
    "capture_17 = \"E:/finalyearproject_dataset/iot_23_datasets_small/opt/Malware-Project/BigDataset/IoTScenarios/CTU-IoT-Malware-Capture-17-1/bro/conn.log.labeled\"\n",
    "capture_36 = \"E:/finalyearproject_dataset/iot_23_datasets_small/opt/Malware-Project/BigDataset/IoTScenarios/CTU-IoT-Malware-Capture-36-1/bro/conn.log.labeled\"\n",
    "capture_33 = \"E:/finalyearproject_dataset/iot_23_datasets_small/opt/Malware-Project/BigDataset/IoTScenarios/CTU-IoT-Malware-Capture-33-1/bro/conn.log.labeled\"\n",
    "capture_8 = \"E:/finalyearproject_dataset/iot_23_datasets_small/opt/Malware-Project/BigDataset/IoTScenarios/CTU-IoT-Malware-Capture-8-1/bro/conn.log.labeled\"\n",
    "capture_35 = \"E:/finalyearproject_dataset/iot_23_datasets_small/opt/Malware-Project/BigDataset/IoTScenarios/CTU-IoT-Malware-Capture-35-1/bro/conn.log.labeled\"\n",
    "capture_48 = \"E:/finalyearproject_dataset/iot_23_datasets_small/opt/Malware-Project/BigDataset/IoTScenarios/CTU-IoT-Malware-Capture-48-1/bro/conn.log.labeled\"\n",
    "capture_39 = \"E:/finalyearproject_dataset/iot_23_datasets_small/opt/Malware-Project/BigDataset/IoTScenarios/CTU-IoT-Malware-Capture-39-1/bro/conn.log.labeled\"\n",
    "capture_7 = \"E:/finalyearproject_dataset/iot_23_datasets_small/opt/Malware-Project/BigDataset/IoTScenarios/CTU-IoT-Malware-Capture-7-1/bro/conn.log.labeled\"\n",
    "capture_9 = \"E:/finalyearproject_dataset/iot_23_datasets_small/opt/Malware-Project/BigDataset/IoTScenarios/CTU-IoT-Malware-Capture-9-1/bro/conn.log.labeled\"\n",
    "capture_3 = \"E:/finalyearproject_dataset/iot_23_datasets_small/opt/Malware-Project/BigDataset/IoTScenarios/CTU-IoT-Malware-Capture-3-1/bro/conn.log.labeled\"\n",
    "capture_1 = \"E:/finalyearproject_dataset/iot_23_datasets_small/opt/Malware-Project/BigDataset/IoTScenarios/CTU-IoT-Malware-Capture-1-1/bro/conn.log.labeled\""
   ]
  },
  {
   "cell_type": "code",
   "execution_count": null,
   "metadata": {},
   "outputs": [],
   "source": []
  },
  {
   "cell_type": "code",
   "execution_count": 7,
   "metadata": {},
   "outputs": [],
   "source": [
    "df34 = pd.read_table(filepath_or_buffer=capture_34, skiprows=10,nrows=500000)\n",
    "df34.columns=['ts',\n",
    "              'uid',\n",
    "              'id.orig_h',\n",
    "              'id.orig_p',\n",
    "              'id.resp_h',\n",
    "              'id.resp_p',\n",
    "              'proto',\n",
    "              'service',\n",
    "              'duration',\n",
    "              'orig_bytes',\n",
    "              'resp_bytes',\n",
    "              'conn_state',\n",
    "              'local_orig',\n",
    "              'local_resp',\n",
    "              'missed_bytes',\n",
    "              'history',\n",
    "              'orig_pkts',\n",
    "              'orig_ip_bytes',\n",
    "              'resp_pkts',\n",
    "              'resp_ip_bytes',\n",
    "              'label']\n",
    "df34.drop(df34.tail(1).index,inplace=True)"
   ]
  },
  {
   "cell_type": "code",
   "execution_count": 8,
   "metadata": {},
   "outputs": [
    {
     "data": {
      "text/plain": [
       "label\n",
       "-   Malicious   DDoS                         14394\n",
       "-   Malicious   C&C                           6706\n",
       "-   Benign   -                                1920\n",
       "-   Malicious   PartOfAHorizontalPortScan      122\n",
       "Name: count, dtype: int64"
      ]
     },
     "execution_count": 8,
     "metadata": {},
     "output_type": "execute_result"
    }
   ],
   "source": [
    "df34['label'].value_counts()"
   ]
  },
  {
   "cell_type": "code",
   "execution_count": 9,
   "metadata": {},
   "outputs": [],
   "source": [
    "df43 = pd.read_table(filepath_or_buffer=capture_43, skiprows=10,nrows=500000)\n",
    "df43.columns=['ts',\n",
    "              'uid',\n",
    "              'id.orig_h',\n",
    "              'id.orig_p',\n",
    "              'id.resp_h',\n",
    "              'id.resp_p',\n",
    "              'proto',\n",
    "              'service',\n",
    "              'duration',\n",
    "              'orig_bytes',\n",
    "              'resp_bytes',\n",
    "              'conn_state',\n",
    "              'local_orig',\n",
    "              'local_resp',\n",
    "              'missed_bytes',\n",
    "              'history',\n",
    "              'orig_pkts',\n",
    "              'orig_ip_bytes',\n",
    "              'resp_pkts',\n",
    "              'resp_ip_bytes',\n",
    "              'label']\n",
    "df43.drop(df43.tail(1).index,inplace=True)"
   ]
  },
  {
   "cell_type": "code",
   "execution_count": 10,
   "metadata": {},
   "outputs": [
    {
     "data": {
      "text/plain": [
       "label\n",
       "-   Malicious   PartOfAHorizontalPortScan    281492\n",
       "-   Benign   -                               153558\n",
       "-   Malicious   Okiru                         64871\n",
       "-   Malicious   C&C                              65\n",
       "-   Malicious   C&C-FileDownload                 13\n",
       "Name: count, dtype: int64"
      ]
     },
     "execution_count": 10,
     "metadata": {},
     "output_type": "execute_result"
    }
   ],
   "source": [
    "df43['label'].value_counts()"
   ]
  },
  {
   "cell_type": "code",
   "execution_count": 11,
   "metadata": {},
   "outputs": [
    {
     "data": {
      "text/plain": [
       "label\n",
       "-   Benign   -                      211\n",
       "-   Malicious   C&C                  12\n",
       "-   Malicious   C&C-FileDownload     10\n",
       "-   Malicious   DDoS                  1\n",
       "Name: count, dtype: int64"
      ]
     },
     "execution_count": 11,
     "metadata": {},
     "output_type": "execute_result"
    }
   ],
   "source": [
    "df44 = pd.read_table(filepath_or_buffer=capture_44, skiprows=10,nrows=500000)\n",
    "df44.columns=['ts',\n",
    "              'uid',\n",
    "              'id.orig_h',\n",
    "              'id.orig_p',\n",
    "              'id.resp_h',\n",
    "              'id.resp_p',\n",
    "              'proto',\n",
    "              'service',\n",
    "              'duration',\n",
    "              'orig_bytes',\n",
    "              'resp_bytes',\n",
    "              'conn_state',\n",
    "              'local_orig',\n",
    "              'local_resp',\n",
    "              'missed_bytes',\n",
    "              'history',\n",
    "              'orig_pkts',\n",
    "              'orig_ip_bytes',\n",
    "              'resp_pkts',\n",
    "              'resp_ip_bytes',\n",
    "              'label']\n",
    "df44.drop(df44.tail(1).index,inplace=True)\n",
    "df44['label'].value_counts()"
   ]
  },
  {
   "cell_type": "code",
   "execution_count": 12,
   "metadata": {},
   "outputs": [
    {
     "data": {
      "text/plain": [
       "label\n",
       "-   Malicious   PartOfAHorizontalPortScan    499472\n",
       "-   Benign   -                                  339\n",
       "-   Malicious   C&C                             177\n",
       "-   Malicious   FileDownload                     11\n",
       "Name: count, dtype: int64"
      ]
     },
     "execution_count": 12,
     "metadata": {},
     "output_type": "execute_result"
    }
   ],
   "source": [
    "df49 = pd.read_table(filepath_or_buffer=capture_49, skiprows=10,nrows=500000)\n",
    "df49.columns=['ts',\n",
    "              'uid',\n",
    "              'id.orig_h',\n",
    "              'id.orig_p',\n",
    "              'id.resp_h',\n",
    "              'id.resp_p',\n",
    "              'proto',\n",
    "              'service',\n",
    "              'duration',\n",
    "              'orig_bytes',\n",
    "              'resp_bytes',\n",
    "              'conn_state',\n",
    "              'local_orig',\n",
    "              'local_resp',\n",
    "              'missed_bytes',\n",
    "              'history',\n",
    "              'orig_pkts',\n",
    "              'orig_ip_bytes',\n",
    "              'resp_pkts',\n",
    "              'resp_ip_bytes',\n",
    "              'label']\n",
    "df49.drop(df49.tail(1).index,inplace=True)\n",
    "df49['label'].value_counts()"
   ]
  },
  {
   "cell_type": "code",
   "execution_count": 13,
   "metadata": {},
   "outputs": [
    {
     "data": {
      "text/plain": [
       "label\n",
       "-   Malicious   PartOfAHorizontalPortScan    499938\n",
       "-   Benign   -                                   45\n",
       "-   Malicious   C&C-FileDownload                 10\n",
       "-   Malicious   C&C                               5\n",
       "-   Malicious   C&C-Mirai                         1\n",
       "Name: count, dtype: int64"
      ]
     },
     "execution_count": 13,
     "metadata": {},
     "output_type": "execute_result"
    }
   ],
   "source": [
    "df52 = pd.read_table(filepath_or_buffer=capture_52, skiprows=10,nrows=500000)\n",
    "df52.columns=['ts',\n",
    "              'uid',\n",
    "              'id.orig_h',\n",
    "              'id.orig_p',\n",
    "              'id.resp_h',\n",
    "              'id.resp_p',\n",
    "              'proto',\n",
    "              'service',\n",
    "              'duration',\n",
    "              'orig_bytes',\n",
    "              'resp_bytes',\n",
    "              'conn_state',\n",
    "              'local_orig',\n",
    "              'local_resp',\n",
    "              'missed_bytes',\n",
    "              'history',\n",
    "              'orig_pkts',\n",
    "              'orig_ip_bytes',\n",
    "              'resp_pkts',\n",
    "              'resp_ip_bytes',\n",
    "              'label']\n",
    "df52.drop(df52.tail(1).index,inplace=True)\n",
    "df52['label'].value_counts()"
   ]
  },
  {
   "cell_type": "code",
   "execution_count": 14,
   "metadata": {},
   "outputs": [
    {
     "data": {
      "text/plain": [
       "label\n",
       "-   Benign   -               3190\n",
       "-   Malicious   C&C-Torii      16\n",
       "Name: count, dtype: int64"
      ]
     },
     "execution_count": 14,
     "metadata": {},
     "output_type": "execute_result"
    }
   ],
   "source": [
    "df20 = pd.read_table(filepath_or_buffer=capture_20, skiprows=10,nrows=500000)\n",
    "df20.columns=['ts',\n",
    "              'uid',\n",
    "              'id.orig_h',\n",
    "              'id.orig_p',\n",
    "              'id.resp_h',\n",
    "              'id.resp_p',\n",
    "              'proto',\n",
    "              'service',\n",
    "              'duration',\n",
    "              'orig_bytes',\n",
    "              'resp_bytes',\n",
    "              'conn_state',\n",
    "              'local_orig',\n",
    "              'local_resp',\n",
    "              'missed_bytes',\n",
    "              'history',\n",
    "              'orig_pkts',\n",
    "              'orig_ip_bytes',\n",
    "              'resp_pkts',\n",
    "              'resp_ip_bytes',\n",
    "              'label']\n",
    "df20.drop(df20.tail(1).index,inplace=True)\n",
    "df20['label'].value_counts()"
   ]
  },
  {
   "cell_type": "code",
   "execution_count": 15,
   "metadata": {},
   "outputs": [
    {
     "data": {
      "text/plain": [
       "label\n",
       "-   Benign   -               3269\n",
       "-   Malicious   C&C-Torii      14\n",
       "Name: count, dtype: int64"
      ]
     },
     "execution_count": 15,
     "metadata": {},
     "output_type": "execute_result"
    }
   ],
   "source": [
    "df21 = pd.read_table(filepath_or_buffer=capture_21, skiprows=10,nrows=500000)\n",
    "df21.columns=['ts',\n",
    "              'uid',\n",
    "              'id.orig_h',\n",
    "              'id.orig_p',\n",
    "              'id.resp_h',\n",
    "              'id.resp_p',\n",
    "              'proto',\n",
    "              'service',\n",
    "              'duration',\n",
    "              'orig_bytes',\n",
    "              'resp_bytes',\n",
    "              'conn_state',\n",
    "              'local_orig',\n",
    "              'local_resp',\n",
    "              'missed_bytes',\n",
    "              'history',\n",
    "              'orig_pkts',\n",
    "              'orig_ip_bytes',\n",
    "              'resp_pkts',\n",
    "              'resp_ip_bytes',\n",
    "              'label']\n",
    "df21.drop(df21.tail(1).index,inplace=True)\n",
    "df21['label'].value_counts()"
   ]
  },
  {
   "cell_type": "code",
   "execution_count": 16,
   "metadata": {},
   "outputs": [
    {
     "data": {
      "text/plain": [
       "label\n",
       "-   Benign   -                      4419\n",
       "-   Malicious   C&C-FileDownload       2\n",
       "-   Malicious   FileDownload           2\n",
       "Name: count, dtype: int64"
      ]
     },
     "execution_count": 16,
     "metadata": {},
     "output_type": "execute_result"
    }
   ],
   "source": [
    "df42 = pd.read_table(filepath_or_buffer=capture_42, skiprows=10,nrows=500000)\n",
    "df42.columns=['ts',\n",
    "              'uid',\n",
    "              'id.orig_h',\n",
    "              'id.orig_p',\n",
    "              'id.resp_h',\n",
    "              'id.resp_p',\n",
    "              'proto',\n",
    "              'service',\n",
    "              'duration',\n",
    "              'orig_bytes',\n",
    "              'resp_bytes',\n",
    "              'conn_state',\n",
    "              'local_orig',\n",
    "              'local_resp',\n",
    "              'missed_bytes',\n",
    "              'history',\n",
    "              'orig_pkts',\n",
    "              'orig_ip_bytes',\n",
    "              'resp_pkts',\n",
    "              'resp_ip_bytes',\n",
    "              'label']\n",
    "df42.drop(df42.tail(1).index,inplace=True)\n",
    "df42['label'].value_counts()"
   ]
  },
  {
   "cell_type": "code",
   "execution_count": 17,
   "metadata": {},
   "outputs": [
    {
     "data": {
      "text/plain": [
       "label\n",
       "-   Malicious   DDoS             499168\n",
       "-   Benign   -                      738\n",
       "-   Malicious   C&C-HeartBeat        93\n",
       "Name: count, dtype: int64"
      ]
     },
     "execution_count": 17,
     "metadata": {},
     "output_type": "execute_result"
    }
   ],
   "source": [
    "df60 = pd.read_table(filepath_or_buffer=capture_60, skiprows=10, nrows=500000)\n",
    "df60.columns=['ts',\n",
    "              'uid',\n",
    "              'id.orig_h',\n",
    "              'id.orig_p',\n",
    "              'id.resp_h',\n",
    "              'id.resp_p',\n",
    "              'proto',\n",
    "              'service',\n",
    "              'duration',\n",
    "              'orig_bytes',\n",
    "              'resp_bytes',\n",
    "              'conn_state',\n",
    "              'local_orig',\n",
    "              'local_resp',\n",
    "              'missed_bytes',\n",
    "              'history',\n",
    "              'orig_pkts',\n",
    "              'orig_ip_bytes',\n",
    "              'resp_pkts',\n",
    "              'resp_ip_bytes',\n",
    "              'label']\n",
    "df60.drop(df60.tail(1).index,inplace=True)\n",
    "df60['label'].value_counts()"
   ]
  },
  {
   "cell_type": "code",
   "execution_count": 18,
   "metadata": {},
   "outputs": [
    {
     "data": {
      "text/plain": [
       "label\n",
       "-   Malicious   PartOfAHorizontalPortScan    249780\n",
       "-   Malicious   Okiru                        124949\n",
       "-   Malicious   DDoS                         124943\n",
       "-   Benign   -                                  269\n",
       "-   Malicious   C&C-HeartBeat                    58\n",
       "Name: count, dtype: int64"
      ]
     },
     "execution_count": 18,
     "metadata": {},
     "output_type": "execute_result"
    }
   ],
   "source": [
    "df17 = pd.read_table(filepath_or_buffer=capture_17, skiprows=10,nrows=500000)\n",
    "df17.columns=['ts',\n",
    "              'uid',\n",
    "              'id.orig_h',\n",
    "              'id.orig_p',\n",
    "              'id.resp_h',\n",
    "              'id.resp_p',\n",
    "              'proto',\n",
    "              'service',\n",
    "              'duration',\n",
    "              'orig_bytes',\n",
    "              'resp_bytes',\n",
    "              'conn_state',\n",
    "              'local_orig',\n",
    "              'local_resp',\n",
    "              'missed_bytes',\n",
    "              'history',\n",
    "              'orig_pkts',\n",
    "              'orig_ip_bytes',\n",
    "              'resp_pkts',\n",
    "              'resp_ip_bytes',\n",
    "              'label']\n",
    "df17.drop(df17.tail(1).index,inplace=True)\n",
    "df17['label'].value_counts()"
   ]
  },
  {
   "cell_type": "code",
   "execution_count": 19,
   "metadata": {},
   "outputs": [
    {
     "data": {
      "text/plain": [
       "label\n",
       "-   Malicious   Okiru            499314\n",
       "-   Malicious   C&C-HeartBeat       572\n",
       "-   Benign   -                      110\n",
       "-   Malicious   Okiru-Attack          3\n",
       "Name: count, dtype: int64"
      ]
     },
     "execution_count": 19,
     "metadata": {},
     "output_type": "execute_result"
    }
   ],
   "source": [
    "df36 = pd.read_table(filepath_or_buffer=capture_36, skiprows=10,nrows=500000)\n",
    "df36.columns=['ts',\n",
    "              'uid',\n",
    "              'id.orig_h',\n",
    "              'id.orig_p',\n",
    "              'id.resp_h',\n",
    "              'id.resp_p',\n",
    "              'proto',\n",
    "              'service',\n",
    "              'duration',\n",
    "              'orig_bytes',\n",
    "              'resp_bytes',\n",
    "              'conn_state',\n",
    "              'local_orig',\n",
    "              'local_resp',\n",
    "              'missed_bytes',\n",
    "              'history',\n",
    "              'orig_pkts',\n",
    "              'orig_ip_bytes',\n",
    "              'resp_pkts',\n",
    "              'resp_ip_bytes',\n",
    "              'label']\n",
    "df36.drop(df36.tail(1).index,inplace=True)\n",
    "df36['label'].value_counts()"
   ]
  },
  {
   "cell_type": "code",
   "execution_count": 20,
   "metadata": {},
   "outputs": [
    {
     "data": {
      "text/plain": [
       "label\n",
       "-   Malicious   PartOfAHorizontalPortScan    362157\n",
       "-   Malicious   Okiru                        125108\n",
       "-   Benign   -                                12693\n",
       "-   Malicious   C&C-HeartBeat                    41\n",
       "Name: count, dtype: int64"
      ]
     },
     "execution_count": 20,
     "metadata": {},
     "output_type": "execute_result"
    }
   ],
   "source": [
    "df33 = pd.read_table(filepath_or_buffer=capture_33, skiprows=10,nrows=500000)\n",
    "df33.columns=['ts',\n",
    "              'uid',\n",
    "              'id.orig_h',\n",
    "              'id.orig_p',\n",
    "              'id.resp_h',\n",
    "              'id.resp_p',\n",
    "              'proto',\n",
    "              'service',\n",
    "              'duration',\n",
    "              'orig_bytes',\n",
    "              'resp_bytes',\n",
    "              'conn_state',\n",
    "              'local_orig',\n",
    "              'local_resp',\n",
    "              'missed_bytes',\n",
    "              'history',\n",
    "              'orig_pkts',\n",
    "              'orig_ip_bytes',\n",
    "              'resp_pkts',\n",
    "              'resp_ip_bytes',\n",
    "              'label']\n",
    "df33.drop(df33.tail(1).index,inplace=True)\n",
    "df33['label'].value_counts()"
   ]
  },
  {
   "cell_type": "code",
   "execution_count": 21,
   "metadata": {},
   "outputs": [
    {
     "data": {
      "text/plain": [
       "label\n",
       "(empty)   Malicious   C&C    8222\n",
       "(empty)   Benign   -         2178\n",
       "Name: count, dtype: int64"
      ]
     },
     "execution_count": 21,
     "metadata": {},
     "output_type": "execute_result"
    }
   ],
   "source": [
    "df8 = pd.read_table(filepath_or_buffer=capture_8, skiprows=10,nrows=500000)\n",
    "df8.columns=['ts',\n",
    "              'uid',\n",
    "              'id.orig_h',\n",
    "              'id.orig_p',\n",
    "              'id.resp_h',\n",
    "              'id.resp_p',\n",
    "              'proto',\n",
    "              'service',\n",
    "              'duration',\n",
    "              'orig_bytes',\n",
    "              'resp_bytes',\n",
    "              'conn_state',\n",
    "              'local_orig',\n",
    "              'local_resp',\n",
    "              'missed_bytes',\n",
    "              'history',\n",
    "              'orig_pkts',\n",
    "              'orig_ip_bytes',\n",
    "              'resp_pkts',\n",
    "              'resp_ip_bytes',\n",
    "              'label']\n",
    "df8.drop(df8.tail(1).index,inplace=True)\n",
    "df8['label'].value_counts()"
   ]
  },
  {
   "cell_type": "code",
   "execution_count": 22,
   "metadata": {},
   "outputs": [
    {
     "data": {
      "text/plain": [
       "label\n",
       "-   Benign   -                      499911\n",
       "-   Malicious   C&C                     77\n",
       "-   Malicious   C&C-FileDownload        11\n",
       "Name: count, dtype: int64"
      ]
     },
     "execution_count": 22,
     "metadata": {},
     "output_type": "execute_result"
    }
   ],
   "source": [
    "df35 = pd.read_table(filepath_or_buffer=capture_35, skiprows=10,nrows=500000)\n",
    "df35.columns=['ts',\n",
    "              'uid',\n",
    "              'id.orig_h',\n",
    "              'id.orig_p',\n",
    "              'id.resp_h',\n",
    "              'id.resp_p',\n",
    "              'proto',\n",
    "              'service',\n",
    "              'duration',\n",
    "              'orig_bytes',\n",
    "              'resp_bytes',\n",
    "              'conn_state',\n",
    "              'local_orig',\n",
    "              'local_resp',\n",
    "              'missed_bytes',\n",
    "              'history',\n",
    "              'orig_pkts',\n",
    "              'orig_ip_bytes',\n",
    "              'resp_pkts',\n",
    "              'resp_ip_bytes',\n",
    "              'label']\n",
    "df35.drop(df35.tail(1).index,inplace=True)\n",
    "df35['label'].value_counts()"
   ]
  },
  {
   "cell_type": "code",
   "execution_count": 23,
   "metadata": {},
   "outputs": [
    {
     "data": {
      "text/plain": [
       "label\n",
       "-   Malicious   PartOfAHorizontalPortScan     498710\n",
       "-   Benign   -                                   747\n",
       "-   Malicious   Attack                           534\n",
       "-   Malicious   C&C-HeartBeat-FileDownload         8\n",
       "Name: count, dtype: int64"
      ]
     },
     "execution_count": 23,
     "metadata": {},
     "output_type": "execute_result"
    }
   ],
   "source": [
    "df48 = pd.read_table(filepath_or_buffer=capture_48, skiprows=10,nrows=500000)\n",
    "df48.columns=['ts',\n",
    "              'uid',\n",
    "              'id.orig_h',\n",
    "              'id.orig_p',\n",
    "              'id.resp_h',\n",
    "              'id.resp_p',\n",
    "              'proto',\n",
    "              'service',\n",
    "              'duration',\n",
    "              'orig_bytes',\n",
    "              'resp_bytes',\n",
    "              'conn_state',\n",
    "              'local_orig',\n",
    "              'local_resp',\n",
    "              'missed_bytes',\n",
    "              'history',\n",
    "              'orig_pkts',\n",
    "              'orig_ip_bytes',\n",
    "              'resp_pkts',\n",
    "              'resp_ip_bytes',\n",
    "              'label']\n",
    "df48.drop(df48.tail(1).index,inplace=True)\n",
    "df48['label'].value_counts()"
   ]
  },
  {
   "cell_type": "code",
   "execution_count": 24,
   "metadata": {},
   "outputs": [
    {
     "data": {
      "text/plain": [
       "label\n",
       "-   Malicious   PartOfAHorizontalPortScan    499881\n",
       "-   Benign   -                                   92\n",
       "-   Malicious   C&C                              22\n",
       "-   Malicious   Attack                            4\n",
       "Name: count, dtype: int64"
      ]
     },
     "execution_count": 24,
     "metadata": {},
     "output_type": "execute_result"
    }
   ],
   "source": [
    "df39 = pd.read_table(filepath_or_buffer=capture_39, skiprows=10,nrows=500000)\n",
    "df39.columns=['ts',\n",
    "              'uid',\n",
    "              'id.orig_h',\n",
    "              'id.orig_p',\n",
    "              'id.resp_h',\n",
    "              'id.resp_p',\n",
    "              'proto',\n",
    "              'service',\n",
    "              'duration',\n",
    "              'orig_bytes',\n",
    "              'resp_bytes',\n",
    "              'conn_state',\n",
    "              'local_orig',\n",
    "              'local_resp',\n",
    "              'missed_bytes',\n",
    "              'history',\n",
    "              'orig_pkts',\n",
    "              'orig_ip_bytes',\n",
    "              'resp_pkts',\n",
    "              'resp_ip_bytes',\n",
    "              'label']\n",
    "df39.drop(df39.tail(1).index,inplace=True)\n",
    "df39['label'].value_counts()"
   ]
  },
  {
   "cell_type": "code",
   "execution_count": 25,
   "metadata": {},
   "outputs": [
    {
     "data": {
      "text/plain": [
       "label\n",
       "(empty)   Malicious   Okiru            498770\n",
       "(empty)   Benign   -                      661\n",
       "(empty)   Malicious   C&C-HeartBeat       568\n",
       "Name: count, dtype: int64"
      ]
     },
     "execution_count": 25,
     "metadata": {},
     "output_type": "execute_result"
    }
   ],
   "source": [
    "df7 = pd.read_table(filepath_or_buffer=capture_7, skiprows=10,nrows=500000)\n",
    "df7.columns=['ts',\n",
    "              'uid',\n",
    "              'id.orig_h',\n",
    "              'id.orig_p',\n",
    "              'id.resp_h',\n",
    "              'id.resp_p',\n",
    "              'proto',\n",
    "              'service',\n",
    "              'duration',\n",
    "              'orig_bytes',\n",
    "              'resp_bytes',\n",
    "              'conn_state',\n",
    "              'local_orig',\n",
    "              'local_resp',\n",
    "              'missed_bytes',\n",
    "              'history',\n",
    "              'orig_pkts',\n",
    "              'orig_ip_bytes',\n",
    "              'resp_pkts',\n",
    "              'resp_ip_bytes',\n",
    "              'label']\n",
    "df7.drop(df7.tail(1).index,inplace=True)\n",
    "df7['label'].value_counts()"
   ]
  },
  {
   "cell_type": "code",
   "execution_count": 26,
   "metadata": {},
   "outputs": [
    {
     "data": {
      "text/plain": [
       "label\n",
       "-   Malicious   PartOfAHorizontalPortScan     498710\n",
       "-   Benign   -                                   747\n",
       "-   Malicious   Attack                           534\n",
       "-   Malicious   C&C-HeartBeat-FileDownload         8\n",
       "Name: count, dtype: int64"
      ]
     },
     "execution_count": 26,
     "metadata": {},
     "output_type": "execute_result"
    }
   ],
   "source": [
    "df9 = pd.read_table(filepath_or_buffer=capture_48, skiprows=10,nrows=500000)\n",
    "df9.columns=['ts',\n",
    "              'uid',\n",
    "              'id.orig_h',\n",
    "              'id.orig_p',\n",
    "              'id.resp_h',\n",
    "              'id.resp_p',\n",
    "              'proto',\n",
    "              'service',\n",
    "              'duration',\n",
    "              'orig_bytes',\n",
    "              'resp_bytes',\n",
    "              'conn_state',\n",
    "              'local_orig',\n",
    "              'local_resp',\n",
    "              'missed_bytes',\n",
    "              'history',\n",
    "              'orig_pkts',\n",
    "              'orig_ip_bytes',\n",
    "              'resp_pkts',\n",
    "              'resp_ip_bytes',\n",
    "              'label']\n",
    "df9.drop(df9.tail(1).index,inplace=True)\n",
    "df9['label'].value_counts()"
   ]
  },
  {
   "cell_type": "code",
   "execution_count": 27,
   "metadata": {},
   "outputs": [
    {
     "name": "stderr",
     "output_type": "stream",
     "text": [
      "C:\\Users\\kushal\\AppData\\Local\\Temp\\ipykernel_5924\\3690571311.py:1: DtypeWarning: Columns (0) have mixed types. Specify dtype option on import or set low_memory=False.\n",
      "  df3 = pd.read_table(filepath_or_buffer=capture_3, skiprows=10,nrows=500000)\n"
     ]
    },
    {
     "data": {
      "text/plain": [
       "label\n",
       "(empty)   Malicious   PartOfAHorizontalPortScan    145594\n",
       "(empty)   Malicious   Attack                         5962\n",
       "(empty)   Benign   -                                 4536\n",
       "(empty)   Malicious   C&C                               8\n",
       "Name: count, dtype: int64"
      ]
     },
     "execution_count": 27,
     "metadata": {},
     "output_type": "execute_result"
    }
   ],
   "source": [
    "df3 = pd.read_table(filepath_or_buffer=capture_3, skiprows=10,nrows=500000)\n",
    "df3.columns=['ts',\n",
    "              'uid',\n",
    "              'id.orig_h',\n",
    "              'id.orig_p',\n",
    "              'id.resp_h',\n",
    "              'id.resp_p',\n",
    "              'proto',\n",
    "              'service',\n",
    "              'duration',\n",
    "              'orig_bytes',\n",
    "              'resp_bytes',\n",
    "              'conn_state',\n",
    "              'local_orig',\n",
    "              'local_resp',\n",
    "              'missed_bytes',\n",
    "              'history',\n",
    "              'orig_pkts',\n",
    "              'orig_ip_bytes',\n",
    "              'resp_pkts',\n",
    "              'resp_ip_bytes',\n",
    "              'label']\n",
    "df3.drop(df3.tail(1).index,inplace=True)\n",
    "df3['label'].value_counts()"
   ]
  },
  {
   "cell_type": "code",
   "execution_count": 28,
   "metadata": {},
   "outputs": [
    {
     "data": {
      "text/plain": [
       "label\n",
       "(empty)   Malicious   PartOfAHorizontalPortScan    271711\n",
       "(empty)   Benign   -                               228282\n",
       "(empty)   Malicious   C&C                               6\n",
       "Name: count, dtype: int64"
      ]
     },
     "execution_count": 28,
     "metadata": {},
     "output_type": "execute_result"
    }
   ],
   "source": [
    "df1 = pd.read_table(filepath_or_buffer=capture_1, skiprows=10,nrows=500000)\n",
    "df1.columns=['ts',\n",
    "              'uid',\n",
    "              'id.orig_h',\n",
    "              'id.orig_p',\n",
    "              'id.resp_h',\n",
    "              'id.resp_p',\n",
    "              'proto',\n",
    "              'service',\n",
    "              'duration',\n",
    "              'orig_bytes',\n",
    "              'resp_bytes',\n",
    "              'conn_state',\n",
    "              'local_orig',\n",
    "              'local_resp',\n",
    "              'missed_bytes',\n",
    "              'history',\n",
    "              'orig_pkts',\n",
    "              'orig_ip_bytes',\n",
    "              'resp_pkts',\n",
    "              'resp_ip_bytes',\n",
    "              'label']\n",
    "df1.drop(df1.tail(1).index,inplace=True)\n",
    "df1['label'].value_counts()"
   ]
  },
  {
   "cell_type": "code",
   "execution_count": 29,
   "metadata": {},
   "outputs": [],
   "source": [
    "frames=[df1, df17, df20, df21, df3, df33, df34, df35, df36, df39, df42, df43, df44, df48, df49, df52, df60, df7, df8, df9]"
   ]
  },
  {
   "cell_type": "code",
   "execution_count": 30,
   "metadata": {},
   "outputs": [],
   "source": [
    "df_c=pd.concat(frames)"
   ]
  },
  {
   "cell_type": "code",
   "execution_count": 31,
   "metadata": {},
   "outputs": [
    {
     "data": {
      "text/plain": [
       "label\n",
       "-   Malicious   PartOfAHorizontalPortScan          3390262\n",
       "-   Malicious   Okiru                               814242\n",
       "-   Benign   -                                      682258\n",
       "-   Malicious   DDoS                                638506\n",
       "(empty)   Malicious   Okiru                         498770\n",
       "(empty)   Malicious   PartOfAHorizontalPortScan     417305\n",
       "(empty)   Benign   -                                235657\n",
       "(empty)   Malicious   C&C                             8236\n",
       "-   Malicious   C&C                                   7064\n",
       "(empty)   Malicious   Attack                          5962\n",
       "-   Malicious   Attack                                1072\n",
       "-   Malicious   C&C-HeartBeat                          764\n",
       "(empty)   Malicious   C&C-HeartBeat                    568\n",
       "-   Malicious   C&C-FileDownload                        46\n",
       "-   Malicious   C&C-Torii                               30\n",
       "-   Malicious   C&C-HeartBeat-FileDownload              16\n",
       "-   Malicious   FileDownload                            13\n",
       "-   Malicious   Okiru-Attack                             3\n",
       "-   Malicious   C&C-Mirai                                1\n",
       "Name: count, dtype: int64"
      ]
     },
     "execution_count": 31,
     "metadata": {},
     "output_type": "execute_result"
    }
   ],
   "source": [
    "df_c['label'].value_counts()"
   ]
  },
  {
   "cell_type": "code",
   "execution_count": 32,
   "metadata": {},
   "outputs": [],
   "source": [
    "df_c.loc[(df_c.label == '-   Malicious   PartOfAHorizontalPortScan'), 'label'] = 'PartOfAHorizontalPortScan'\n",
    "df_c.loc[(df_c.label == '(empty)   Malicious   PartOfAHorizontalPortScan'), 'label'] = 'PartOfAHorizontalPortScan'\n",
    "df_c.loc[(df_c.label == '-   Malicious   Okiru'), 'label'] = 'Okiru'\n",
    "df_c.loc[(df_c.label == '(empty)   Malicious   Okiru'), 'label'] = 'Okiru'\n",
    "df_c.loc[(df_c.label == '-   Benign   -'), 'label'] = 'Benign'\n",
    "df_c.loc[(df_c.label == '(empty)   Benign   -'), 'label'] = 'Benign'\n",
    "df_c.loc[(df_c.label == '-   Malicious   DDoS'), 'label'] = 'DDoS'\n",
    "df_c.loc[(df_c.label == '-   Malicious   C&C'), 'label'] = 'C&C'\n",
    "df_c.loc[(df_c.label == '(empty)   Malicious   C&C'), 'label'] = 'C&C'\n",
    "df_c.loc[(df_c.label == '-   Malicious   Attack'), 'label'] = 'Attack'\n",
    "df_c.loc[(df_c.label == '(empty)   Malicious   Attack'), 'label'] = 'Attack'\n",
    "df_c.loc[(df_c.label == '-   Malicious   C&C-HeartBeat'), 'label'] = 'C&C-HeartBeat'\n",
    "df_c.loc[(df_c.label == '(empty)   Malicious   C&C-HeartBeat'), 'label'] = 'C&C-HeartBeat'\n",
    "df_c.loc[(df_c.label == '-   Malicious   C&C-FileDownload'), 'label'] = 'C&C-FileDownload'\n",
    "df_c.loc[(df_c.label == '-   Malicious   C&C-Torii'), 'label'] = 'C&C-Torii'\n",
    "df_c.loc[(df_c.label == '-   Malicious   C&C-HeartBeat-FileDownload'), 'label'] = 'C&C-HeartBeat-FileDownload'\n",
    "df_c.loc[(df_c.label == '-   Malicious   FileDownload'), 'label'] = 'FileDownload'\n",
    "df_c.loc[(df_c.label == '-   Malicious   C&C-Mirai'), 'label'] = 'C&C-Mirai'\n",
    "df_c.loc[(df_c.label == '-   Malicious   Okiru-Attack'), 'label'] = 'Okiru-Attack'"
   ]
  },
  {
   "cell_type": "code",
   "execution_count": 33,
   "metadata": {},
   "outputs": [
    {
     "data": {
      "text/plain": [
       "label\n",
       "PartOfAHorizontalPortScan     3807567\n",
       "Okiru                         1313012\n",
       "Benign                         917915\n",
       "DDoS                           638506\n",
       "C&C                             15300\n",
       "Attack                           7034\n",
       "C&C-HeartBeat                    1332\n",
       "C&C-FileDownload                   46\n",
       "C&C-Torii                          30\n",
       "C&C-HeartBeat-FileDownload         16\n",
       "FileDownload                       13\n",
       "Okiru-Attack                        3\n",
       "C&C-Mirai                           1\n",
       "Name: count, dtype: int64"
      ]
     },
     "execution_count": 33,
     "metadata": {},
     "output_type": "execute_result"
    }
   ],
   "source": [
    "df_c['label'].value_counts()"
   ]
  },
  {
   "cell_type": "code",
   "execution_count": 34,
   "metadata": {},
   "outputs": [
    {
     "name": "stdout",
     "output_type": "stream",
     "text": [
      "label\n",
      "PartOfAHorizontalPortScan     1313012\n",
      "Okiru                         1313012\n",
      "Benign                         917915\n",
      "DDoS                           638506\n",
      "C&C                             15300\n",
      "Attack                           7034\n",
      "C&C-HeartBeat                    1332\n",
      "C&C-FileDownload                   46\n",
      "C&C-Torii                          30\n",
      "C&C-HeartBeat-FileDownload         16\n",
      "FileDownload                       13\n",
      "Okiru-Attack                        3\n",
      "C&C-Mirai                           1\n",
      "Name: count, dtype: int64\n"
     ]
    }
   ],
   "source": [
    "from sklearn.utils import resample\n",
    "import pandas as pd\n",
    "\n",
    "# Assuming `df_c` is your dataset\n",
    "# Step 1: Identify the majority and minority classes\n",
    "majority_class = 'PartOfAHorizontalPortScan'  # Replace with your majority class label\n",
    "minority_classes = df_c['label'].unique()\n",
    "minority_classes = [cls for cls in minority_classes if cls != majority_class]\n",
    "\n",
    "# Step 2: Downsample the majority class\n",
    "df_majority = df_c[df_c['label'] == majority_class]\n",
    "df_minority = df_c[df_c['label'] != majority_class]\n",
    "\n",
    "# Determine the target size (based on the largest minority class)\n",
    "target_size = df_minority['label'].value_counts().max()\n",
    "\n",
    "df_majority_downsampled = resample(df_majority,\n",
    "                                   replace=False,    # Sample without replacement\n",
    "                                   n_samples=target_size,  # Match minority size\n",
    "                                   random_state=42)\n",
    "\n",
    "# Step 3: Combine downsampled majority class with the minority classes\n",
    "df_balanced = pd.concat([df_majority_downsampled, df_minority])\n",
    "\n",
    "# Step 4: Shuffle the dataset\n",
    "df_shuffled = df_balanced.sample(frac=1, random_state=42).reset_index(drop=True)\n",
    "\n",
    "# Display the balanced and shuffled dataset\n",
    "print(df_shuffled['label'].value_counts())\n"
   ]
  },
  {
   "cell_type": "code",
   "execution_count": 35,
   "metadata": {},
   "outputs": [],
   "source": [
    "df_c = df_c.drop(columns=['id.orig_h','id.orig_p','id.resp_h','id.resp_p',\n",
    "                               'local_orig','local_resp','history','orig_ip_bytes', 'resp_ip_bytes'])"
   ]
  },
  {
   "cell_type": "code",
   "execution_count": 36,
   "metadata": {},
   "outputs": [
    {
     "data": {
      "text/plain": [
       "duration\n",
       "-           3738271\n",
       "2e-06        934937\n",
       "5e-06        356666\n",
       "1e-06        214591\n",
       "6e-06        176588\n",
       "             ...   \n",
       "3.088699          1\n",
       "3.087715          1\n",
       "3.157514          1\n",
       "3.157507          1\n",
       "0.005227          1\n",
       "Name: count, Length: 91933, dtype: int64"
      ]
     },
     "execution_count": 36,
     "metadata": {},
     "output_type": "execute_result"
    }
   ],
   "source": [
    "df_c['duration'].value_counts()"
   ]
  },
  {
   "cell_type": "code",
   "execution_count": 37,
   "metadata": {},
   "outputs": [],
   "source": [
    "for col in [\"orig_bytes\", \"resp_bytes\", \"duration\"]:\n",
    "    df_c[col] = pd.to_numeric(df_c[col], errors='coerce')\n",
    "\n",
    "# Drop rows with null (NaN) values in the specified columns\n",
    "df_c.dropna(subset=[\"orig_bytes\", \"resp_bytes\", \"duration\"], inplace=True)\n"
   ]
  },
  {
   "cell_type": "code",
   "execution_count": 38,
   "metadata": {},
   "outputs": [
    {
     "data": {
      "text/plain": [
       "(2962504, 12)"
      ]
     },
     "execution_count": 38,
     "metadata": {},
     "output_type": "execute_result"
    }
   ],
   "source": [
    "df_c.shape"
   ]
  },
  {
   "cell_type": "code",
   "execution_count": 39,
   "metadata": {},
   "outputs": [
    {
     "data": {
      "text/plain": [
       "ts              0\n",
       "uid             0\n",
       "proto           0\n",
       "service         0\n",
       "duration        0\n",
       "orig_bytes      0\n",
       "resp_bytes      0\n",
       "conn_state      0\n",
       "missed_bytes    0\n",
       "orig_pkts       0\n",
       "resp_pkts       0\n",
       "label           0\n",
       "dtype: int64"
      ]
     },
     "execution_count": 39,
     "metadata": {},
     "output_type": "execute_result"
    }
   ],
   "source": [
    "df_c.isna().sum()"
   ]
  },
  {
   "cell_type": "code",
   "execution_count": 40,
   "metadata": {},
   "outputs": [],
   "source": [
    "df_c['duration'] = pd.to_timedelta(df_c['duration'])\n",
    "df_c['duration'] = df_c['duration'].dt.total_seconds()"
   ]
  },
  {
   "cell_type": "code",
   "execution_count": 41,
   "metadata": {},
   "outputs": [],
   "source": [
    "df_c = pd.get_dummies(df_c, columns=['proto'])\n",
    "df_c = pd.get_dummies(df_c, columns=['conn_state'])"
   ]
  },
  {
   "cell_type": "code",
   "execution_count": 42,
   "metadata": {},
   "outputs": [
    {
     "data": {
      "text/plain": [
       "service\n",
       "-       2948180\n",
       "ssh        5900\n",
       "dns        4494\n",
       "http       2251\n",
       "irc        1661\n",
       "dhcp         10\n",
       "ssl           8\n",
       "Name: count, dtype: int64"
      ]
     },
     "execution_count": 42,
     "metadata": {},
     "output_type": "execute_result"
    }
   ],
   "source": [
    "df_c['service'].value_counts()"
   ]
  },
  {
   "cell_type": "code",
   "execution_count": 43,
   "metadata": {},
   "outputs": [],
   "source": [
    "df_c = pd.get_dummies(df_c, columns=['service'])"
   ]
  },
  {
   "cell_type": "code",
   "execution_count": 44,
   "metadata": {},
   "outputs": [],
   "source": [
    "df_c.to_csv('iot23_combined.csv')"
   ]
  },
  {
   "cell_type": "code",
   "execution_count": null,
   "metadata": {},
   "outputs": [],
   "source": []
  }
 ],
 "metadata": {
  "kernelspec": {
   "display_name": "Python 3",
   "language": "python",
   "name": "python3"
  },
  "language_info": {
   "codemirror_mode": {
    "name": "ipython",
    "version": 3
   },
   "file_extension": ".py",
   "mimetype": "text/x-python",
   "name": "python",
   "nbconvert_exporter": "python",
   "pygments_lexer": "ipython3",
   "version": "3.11.1"
  }
 },
 "nbformat": 4,
 "nbformat_minor": 2
}
